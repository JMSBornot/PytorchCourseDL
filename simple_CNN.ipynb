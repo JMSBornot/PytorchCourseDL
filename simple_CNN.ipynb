{
  "nbformat": 4,
  "nbformat_minor": 0,
  "metadata": {
    "colab": {
      "provenance": [],
      "gpuType": "T4",
      "authorship_tag": "ABX9TyMNTmrs6vxEP4Feu4va1Zbw",
      "include_colab_link": true
    },
    "kernelspec": {
      "name": "python3",
      "display_name": "Python 3"
    },
    "language_info": {
      "name": "python"
    }
  },
  "cells": [
    {
      "cell_type": "markdown",
      "metadata": {
        "id": "view-in-github",
        "colab_type": "text"
      },
      "source": [
        "<a href=\"https://colab.research.google.com/github/JMSBornot/PytorchCourseDL/blob/main/simple_CNN.ipynb\" target=\"_parent\"><img src=\"https://colab.research.google.com/assets/colab-badge.svg\" alt=\"Open In Colab\"/></a>"
      ]
    },
    {
      "cell_type": "code",
      "execution_count": 1,
      "metadata": {
        "id": "fh3wRXT04gIU"
      },
      "outputs": [],
      "source": [
        "import torch\n",
        "import torch.nn as nn\n",
        "import torch.nn.functional as F\n",
        "from torch.utils.data import DataLoader\n",
        "from torchvision import datasets, transforms\n",
        "from torchvision.utils import make_grid\n",
        "import numpy as np\n",
        "import pandas as pd\n",
        "from sklearn.metrics import confusion_matrix\n",
        "import matplotlib.pyplot as plt\n",
        "%matplotlib inline"
      ]
    },
    {
      "cell_type": "code",
      "source": [
        "# Read MNIS images data into Tensors\n",
        "ttfunc = transforms.ToTensor() # transform to tensor function\n",
        "train_data = datasets.MNIST(root='input_data', train=True, download=True, transform=ttfunc)\n",
        "test_data = datasets.MNIST(root='input_data', train=False, download=True, transform=ttfunc)\n",
        "print(train_data)\n",
        "print(test_data)"
      ],
      "metadata": {
        "colab": {
          "base_uri": "https://localhost:8080/"
        },
        "id": "si_lOhgB5dPl",
        "outputId": "75320fdf-acc0-4b03-ae99-a9a39f475a0a"
      },
      "execution_count": 2,
      "outputs": [
        {
          "output_type": "stream",
          "name": "stdout",
          "text": [
            "Downloading http://yann.lecun.com/exdb/mnist/train-images-idx3-ubyte.gz\n",
            "Failed to download (trying next):\n",
            "HTTP Error 403: Forbidden\n",
            "\n",
            "Downloading https://ossci-datasets.s3.amazonaws.com/mnist/train-images-idx3-ubyte.gz\n",
            "Downloading https://ossci-datasets.s3.amazonaws.com/mnist/train-images-idx3-ubyte.gz to input_data/MNIST/raw/train-images-idx3-ubyte.gz\n"
          ]
        },
        {
          "output_type": "stream",
          "name": "stderr",
          "text": [
            "100%|██████████| 9912422/9912422 [00:01<00:00, 8906597.31it/s] \n"
          ]
        },
        {
          "output_type": "stream",
          "name": "stdout",
          "text": [
            "Extracting input_data/MNIST/raw/train-images-idx3-ubyte.gz to input_data/MNIST/raw\n",
            "\n",
            "Downloading http://yann.lecun.com/exdb/mnist/train-labels-idx1-ubyte.gz\n",
            "Failed to download (trying next):\n",
            "HTTP Error 403: Forbidden\n",
            "\n",
            "Downloading https://ossci-datasets.s3.amazonaws.com/mnist/train-labels-idx1-ubyte.gz\n",
            "Downloading https://ossci-datasets.s3.amazonaws.com/mnist/train-labels-idx1-ubyte.gz to input_data/MNIST/raw/train-labels-idx1-ubyte.gz\n"
          ]
        },
        {
          "output_type": "stream",
          "name": "stderr",
          "text": [
            "100%|██████████| 28881/28881 [00:00<00:00, 1619634.37it/s]\n"
          ]
        },
        {
          "output_type": "stream",
          "name": "stdout",
          "text": [
            "Extracting input_data/MNIST/raw/train-labels-idx1-ubyte.gz to input_data/MNIST/raw\n",
            "\n",
            "Downloading http://yann.lecun.com/exdb/mnist/t10k-images-idx3-ubyte.gz\n",
            "Failed to download (trying next):\n",
            "HTTP Error 403: Forbidden\n",
            "\n",
            "Downloading https://ossci-datasets.s3.amazonaws.com/mnist/t10k-images-idx3-ubyte.gz\n",
            "Downloading https://ossci-datasets.s3.amazonaws.com/mnist/t10k-images-idx3-ubyte.gz to input_data/MNIST/raw/t10k-images-idx3-ubyte.gz\n"
          ]
        },
        {
          "output_type": "stream",
          "name": "stderr",
          "text": [
            "100%|██████████| 1648877/1648877 [00:00<00:00, 13615621.19it/s]\n"
          ]
        },
        {
          "output_type": "stream",
          "name": "stdout",
          "text": [
            "Extracting input_data/MNIST/raw/t10k-images-idx3-ubyte.gz to input_data/MNIST/raw\n",
            "\n",
            "Downloading http://yann.lecun.com/exdb/mnist/t10k-labels-idx1-ubyte.gz\n",
            "Failed to download (trying next):\n",
            "HTTP Error 403: Forbidden\n",
            "\n",
            "Downloading https://ossci-datasets.s3.amazonaws.com/mnist/t10k-labels-idx1-ubyte.gz\n",
            "Downloading https://ossci-datasets.s3.amazonaws.com/mnist/t10k-labels-idx1-ubyte.gz to input_data/MNIST/raw/t10k-labels-idx1-ubyte.gz\n"
          ]
        },
        {
          "output_type": "stream",
          "name": "stderr",
          "text": [
            "100%|██████████| 4542/4542 [00:00<00:00, 2644070.61it/s]"
          ]
        },
        {
          "output_type": "stream",
          "name": "stdout",
          "text": [
            "Extracting input_data/MNIST/raw/t10k-labels-idx1-ubyte.gz to input_data/MNIST/raw\n",
            "\n",
            "Dataset MNIST\n",
            "    Number of datapoints: 60000\n",
            "    Root location: input_data\n",
            "    Split: Train\n",
            "    StandardTransform\n",
            "Transform: ToTensor()\n",
            "Dataset MNIST\n",
            "    Number of datapoints: 10000\n",
            "    Root location: input_data\n",
            "    Split: Test\n",
            "    StandardTransform\n",
            "Transform: ToTensor()\n"
          ]
        },
        {
          "output_type": "stream",
          "name": "stderr",
          "text": [
            "\n"
          ]
        }
      ]
    },
    {
      "cell_type": "code",
      "source": [
        "# Create CNN model\n",
        "cnv1 = nn.Conv2d(1, 6, 3, 1) # 1 indicates 1 image as input, 6 for channels/filters, 3x3 for kernel size, and stride=1 in this order\n",
        "cnv2 = nn.Conv2d(6, 16, 3, 1) # input are the 6 channels/filters from cnv1, and it uses 16 channels/filters with 3x3 kernel"
      ],
      "metadata": {
        "id": "VGuk7xJOD8X5"
      },
      "execution_count": 3,
      "outputs": []
    },
    {
      "cell_type": "code",
      "source": [
        "# Grab 1 MNIST record/image\n",
        "for i, (X_train, y_train) in enumerate(train_data):\n",
        "  break\n",
        "X_train.shape\n",
        "x = X_train.view(1,1,28,28) # reshape the tensor\n",
        "print(x.shape)"
      ],
      "metadata": {
        "colab": {
          "base_uri": "https://localhost:8080/"
        },
        "id": "2vd_EmdwUl-w",
        "outputId": "cd5a77a3-f49d-48e0-b390-8c57aee0d3f0"
      },
      "execution_count": 4,
      "outputs": [
        {
          "output_type": "stream",
          "name": "stdout",
          "text": [
            "torch.Size([1, 1, 28, 28])\n"
          ]
        }
      ]
    },
    {
      "cell_type": "code",
      "source": [
        "# Perform the first convolution operation\n",
        "x = F.relu(cnv1(x))\n",
        "print(x.shape)\n",
        "# Pass through the pooling layer\n",
        "x = F.max_pool2d(x,2,2)\n",
        "print(x.shape)\n",
        "# Second convolution operation\n",
        "x = F.relu(cnv2(x))\n",
        "print(x.shape)\n",
        "# Pass through the pooling layer\n",
        "x = F.max_pool2d(x,2,2)\n",
        "print(x.shape)"
      ],
      "metadata": {
        "colab": {
          "base_uri": "https://localhost:8080/"
        },
        "id": "2vNVR7cdWyEq",
        "outputId": "5c65bb60-744f-42a2-b084-11fc832291a9"
      },
      "execution_count": 5,
      "outputs": [
        {
          "output_type": "stream",
          "name": "stdout",
          "text": [
            "torch.Size([1, 6, 26, 26])\n",
            "torch.Size([1, 6, 13, 13])\n",
            "torch.Size([1, 16, 11, 11])\n",
            "torch.Size([1, 16, 5, 5])\n"
          ]
        }
      ]
    },
    {
      "cell_type": "code",
      "source": [
        "# Model class\n",
        "class CANN(nn.Module):\n",
        "  def __init__(self):\n",
        "    super().__init__() # always first instantiate the ancestor class\n",
        "    # covolution layers separated by pooling layers\n",
        "    self.cnv1 = nn.Conv2d(1,6,3,1)\t# input 1x1x28x28 -> 1x6x26x26\n",
        "    self.cnv2 = nn.Conv2d(6,16,3,1)\t# input 1x6x13x13 -> 1x16x11x11 (between cnv1 and cnv2 layers, there is a dropout layer reducing the size 50%)\n",
        "    # fully connected layers stacked at the end, receiving flattened convolution outcome\n",
        "    self.fc1 = nn.Linear(16*5*5,120)\t# input 1x16x5x5 -> 1x120 (between cnv2 and fc1 layers, there is a dropout layer reducing the size 50%)\n",
        "    self.fc2 = nn.Linear(120,84)\t# input 1x120 -> 1x84\n",
        "    self.fc3 = nn.Linear(84,10)\t\t# input 1x84 -> 1x10\n",
        "\n",
        "  def forward(self, x):\n",
        "    # Convolution layers processing\n",
        "    x = F.relu(self.cnv1(x))\n",
        "    x = F.max_pool2d(x,2,2)\n",
        "    x = F.relu(self.cnv2(x))\n",
        "    x = F.max_pool2d(x,2,2)\n",
        "\n",
        "    # flatten conv layers output\n",
        "    x = x.view(-1,16*5*5) # treating the first dimension as unknown (-1) so we can vary the batch size\n",
        "\n",
        "    # Fully connected layers processing\n",
        "    x = F.relu(self.fc1(x))\n",
        "    x = F.relu(self.fc2(x))\n",
        "    x = self.fc3(x)\n",
        "\n",
        "    return F.log_softmax(x,dim=1)"
      ],
      "metadata": {
        "id": "gxMUo35ndsbn"
      },
      "execution_count": 6,
      "outputs": []
    },
    {
      "cell_type": "code",
      "source": [
        "# Create and instance and use the model\n",
        "torch.manual_seed(41)\n",
        "model = CANN()\n",
        "model"
      ],
      "metadata": {
        "colab": {
          "base_uri": "https://localhost:8080/"
        },
        "id": "P4sTaSGXdvNq",
        "outputId": "7c601a02-be36-4f3f-a7bf-0c8cefd7579c"
      },
      "execution_count": 7,
      "outputs": [
        {
          "output_type": "execute_result",
          "data": {
            "text/plain": [
              "CANN(\n",
              "  (cnv1): Conv2d(1, 6, kernel_size=(3, 3), stride=(1, 1))\n",
              "  (cnv2): Conv2d(6, 16, kernel_size=(3, 3), stride=(1, 1))\n",
              "  (fc1): Linear(in_features=400, out_features=120, bias=True)\n",
              "  (fc2): Linear(in_features=120, out_features=84, bias=True)\n",
              "  (fc3): Linear(in_features=84, out_features=10, bias=True)\n",
              ")"
            ]
          },
          "metadata": {},
          "execution_count": 7
        }
      ]
    },
    {
      "cell_type": "code",
      "source": [
        "# Loss function optimizer\n",
        "criterion = nn.CrossEntropyLoss()\n",
        "optimizer = torch.optim.Adam(model.parameters(), lr = 0.001)"
      ],
      "metadata": {
        "id": "Q41b12ndgLvv"
      },
      "execution_count": 8,
      "outputs": []
    },
    {
      "cell_type": "code",
      "source": [
        "import time\n",
        "\n",
        "# Control variables\n",
        "Ne = 10                # Number of epochs\n",
        "Nb = 20               # Batch size\n",
        "trainLoss = []\n",
        "testLoss = []\n",
        "trainAcc = []\n",
        "testAcc = []\n",
        "\n",
        "train_loader = DataLoader(train_data, batch_size=Nb, shuffle=True)\n",
        "test_loader = DataLoader(test_data, batch_size=Nb, shuffle=False)\n",
        "\n",
        "Ntr = train_loader.dataset.train_data.size(0)\n",
        "Nte = test_loader.dataset.test_data.size(0)\n",
        "\n",
        "### Training CNN model\n",
        "T0 = time.time()\n",
        "\n",
        "for i in range(Ne): # epochs loop\n",
        "  acc_train = 0\n",
        "  acc_test = 0\n",
        "  num = 0\n",
        "\n",
        "  # Evaluate for each batch's samples\n",
        "  for j, (Xtr, ytr) in enumerate(train_loader):\n",
        "    # Propagate forward and calculate the loss\n",
        "    out = model(Xtr)  # not flattenet: dim is Nb x 10\n",
        "    loss = criterion(out, ytr)\n",
        "\n",
        "    # Accumulate classification accuracy\n",
        "    _, ind = torch.max(out.data, 1, keepdim=True) # ind's dimension is Nb x 1. If only one output argument is specified then the output will be a tuple (max_value, ind)\n",
        "    acc_train += (ytr.reshape(-1,1) == ind.reshape(-1,1)).sum()\n",
        "\n",
        "    # Update CNN model parameters\n",
        "    optimizer.zero_grad()\n",
        "    loss.backward()\n",
        "    optimizer.step()\n",
        "\n",
        "    # Learning feedback\n",
        "    if (j+1) % 500 == 0: # it runs for 3000 iterations: 3000 x (20 batch samples) = 60,000 MNIST images\n",
        "      print(f\"Epoch {i+1}, Batch {j+1}: Loss = {loss.data}\")\n",
        "\n",
        "  trainLoss.append(loss)\n",
        "  trainAcc.append(acc_train)\n",
        "\n",
        "  # Evaluation on test data\n",
        "  with torch.no_grad(): # switch off gradient calculation for efficiency\n",
        "    for j, (Xte, yte) in enumerate(test_loader):\n",
        "      out = model(Xte)\n",
        "      _, ind = torch.max(out.data, 1, keepdim=True)\n",
        "      acc_test += (yte.reshape(-1,1) == ind.reshape(-1,1)).sum()\n",
        "\n",
        "  loss = criterion(out, yte)\n",
        "  testLoss.append(loss)\n",
        "  testAcc.append(acc_test)\n",
        "\n",
        "  print(f\"Epoch {i+1}, Train_Loss = {trainLoss[-1]}, Test_Loss = {testLoss[-1]}, Train_Acc = {trainAcc[-1]/Ntr}, Test_Acc = {testAcc[-1]/Nte}\")\n",
        "\n",
        "total =  time.time() - T0\n",
        "print(f\"Training took: {total/60} minutes!\")"
      ],
      "metadata": {
        "colab": {
          "base_uri": "https://localhost:8080/"
        },
        "id": "lEE5QA7w5oPM",
        "outputId": "9be665be-6ffa-41c6-a9e2-502da95144d1"
      },
      "execution_count": 10,
      "outputs": [
        {
          "output_type": "stream",
          "name": "stdout",
          "text": [
            "Epoch 1, Batch 500: Loss = 0.00036072140210308135\n",
            "Epoch 1, Batch 1000: Loss = 2.276878603879595e-06\n",
            "Epoch 1, Batch 1500: Loss = 5.0341459427727386e-05\n",
            "Epoch 1, Batch 2000: Loss = 9.216192120220512e-05\n",
            "Epoch 1, Batch 2500: Loss = 0.0003438266576267779\n",
            "Epoch 1, Batch 3000: Loss = 0.0009741733665578067\n",
            "Epoch 1, Train_Loss = 0.0009741733665578067, Test_Loss = 0.0544222816824913, Train_Acc = 0.9954500198364258, Test_Acc = 0.9887999892234802\n",
            "Epoch 2, Batch 500: Loss = 0.0002837936917785555\n",
            "Epoch 2, Batch 1000: Loss = 5.931327541475184e-05\n",
            "Epoch 2, Batch 1500: Loss = 3.445115680733579e-06\n",
            "Epoch 2, Batch 2000: Loss = 0.00823075883090496\n",
            "Epoch 2, Batch 2500: Loss = 0.00010210071923211217\n",
            "Epoch 2, Batch 3000: Loss = 0.00016595258784946054\n",
            "Epoch 2, Train_Loss = 0.00016595258784946054, Test_Loss = 0.0002810130245052278, Train_Acc = 0.996566653251648, Test_Acc = 0.988099992275238\n",
            "Epoch 3, Batch 500: Loss = 0.0006606925162486732\n",
            "Epoch 3, Batch 1000: Loss = 0.00013165624113753438\n",
            "Epoch 3, Batch 1500: Loss = 0.0015757387736812234\n",
            "Epoch 3, Batch 2000: Loss = 0.000212705199373886\n",
            "Epoch 3, Batch 2500: Loss = 0.139980748295784\n",
            "Epoch 3, Batch 3000: Loss = 2.4162360205082223e-05\n",
            "Epoch 3, Train_Loss = 2.4162360205082223e-05, Test_Loss = 1.3410948440650827e-06, Train_Acc = 0.9961666464805603, Test_Acc = 0.9879999756813049\n",
            "Epoch 4, Batch 500: Loss = 8.351467113243416e-05\n",
            "Epoch 4, Batch 1000: Loss = 0.0014378353953361511\n",
            "Epoch 4, Batch 1500: Loss = 0.0013473534490913153\n",
            "Epoch 4, Batch 2000: Loss = 0.004563753493130207\n",
            "Epoch 4, Batch 2500: Loss = 0.00019631748727988452\n",
            "Epoch 4, Batch 3000: Loss = 4.9272079195361584e-05\n",
            "Epoch 4, Train_Loss = 4.9272079195361584e-05, Test_Loss = 0.008382849395275116, Train_Acc = 0.996916651725769, Test_Acc = 0.9897000193595886\n",
            "Epoch 5, Batch 500: Loss = 0.0001147590228356421\n",
            "Epoch 5, Batch 1000: Loss = 1.0531667612667661e-05\n",
            "Epoch 5, Batch 1500: Loss = 0.0015225447714328766\n",
            "Epoch 5, Batch 2000: Loss = 0.0001482158259022981\n",
            "Epoch 5, Batch 2500: Loss = 1.7464008124079555e-06\n",
            "Epoch 5, Batch 3000: Loss = 0.0001338483125437051\n",
            "Epoch 5, Train_Loss = 0.0001338483125437051, Test_Loss = 0.06644777208566666, Train_Acc = 0.9968666434288025, Test_Acc = 0.9900000095367432\n",
            "Epoch 6, Batch 500: Loss = 0.00012559026072267443\n",
            "Epoch 6, Batch 1000: Loss = 0.0024842096026986837\n",
            "Epoch 6, Batch 1500: Loss = 3.7383055314421654e-05\n",
            "Epoch 6, Batch 2000: Loss = 4.1802784835454077e-05\n",
            "Epoch 6, Batch 2500: Loss = 4.857670319324825e-06\n",
            "Epoch 6, Batch 3000: Loss = 0.0006552378763444722\n",
            "Epoch 6, Train_Loss = 0.0006552378763444722, Test_Loss = 0.00019619819067884237, Train_Acc = 0.9970666766166687, Test_Acc = 0.9886999726295471\n",
            "Epoch 7, Batch 500: Loss = 1.4411445590667427e-05\n",
            "Epoch 7, Batch 1000: Loss = 0.0002439830859657377\n",
            "Epoch 7, Batch 1500: Loss = 3.248403345423867e-06\n",
            "Epoch 7, Batch 2000: Loss = 0.12896403670310974\n",
            "Epoch 7, Batch 2500: Loss = 0.012437678873538971\n",
            "Epoch 7, Batch 3000: Loss = 6.2761196204519365e-06\n",
            "Epoch 7, Train_Loss = 6.2761196204519365e-06, Test_Loss = 0.0011974240187555552, Train_Acc = 0.9972333312034607, Test_Acc = 0.9882000088691711\n",
            "Epoch 8, Batch 500: Loss = 3.5541466786526144e-05\n",
            "Epoch 8, Batch 1000: Loss = 0.0003044841578230262\n",
            "Epoch 8, Batch 1500: Loss = 2.6966654331772588e-05\n",
            "Epoch 8, Batch 2000: Loss = 8.516946763847955e-06\n",
            "Epoch 8, Batch 2500: Loss = 0.0025793660897761583\n",
            "Epoch 8, Batch 3000: Loss = 0.002517271088436246\n",
            "Epoch 8, Train_Loss = 0.002517271088436246, Test_Loss = 0.0010473784059286118, Train_Acc = 0.9973333477973938, Test_Acc = 0.9886999726295471\n",
            "Epoch 9, Batch 500: Loss = 8.338019142684061e-06\n",
            "Epoch 9, Batch 1000: Loss = 2.851292629202362e-05\n",
            "Epoch 9, Batch 1500: Loss = 0.00023388539557345212\n",
            "Epoch 9, Batch 2000: Loss = 0.00033824477577582\n",
            "Epoch 9, Batch 2500: Loss = 0.006592027842998505\n",
            "Epoch 9, Batch 3000: Loss = 6.297486834228039e-05\n",
            "Epoch 9, Train_Loss = 6.297486834228039e-05, Test_Loss = 1.5208805962174665e-05, Train_Acc = 0.9972333312034607, Test_Acc = 0.9878000020980835\n",
            "Epoch 10, Batch 500: Loss = 8.409871952608228e-06\n",
            "Epoch 10, Batch 1000: Loss = 1.157986480393447e-05\n",
            "Epoch 10, Batch 1500: Loss = 0.03500356525182724\n",
            "Epoch 10, Batch 2000: Loss = 0.00013434469292405993\n",
            "Epoch 10, Batch 2500: Loss = 4.1483540371700656e-06\n",
            "Epoch 10, Batch 3000: Loss = 4.3391237340983935e-06\n",
            "Epoch 10, Train_Loss = 4.3391237340983935e-06, Test_Loss = 4.9168891564477235e-05, Train_Acc = 0.9979333281517029, Test_Acc = 0.9911999702453613\n",
            "Training took: 5.16305449406306 minutes!\n"
          ]
        }
      ]
    },
    {
      "cell_type": "code",
      "source": [
        "plt.plot([x.data for x in trainLoss], label=\"Train\")\n",
        "plt.plot(testLoss, label=\"Test\")\n",
        "plt.legend()\n",
        "plt.xlabel('Epochs')\n",
        "plt.ylabel('Loss/Error')"
      ],
      "metadata": {
        "colab": {
          "base_uri": "https://localhost:8080/",
          "height": 466
        },
        "id": "0KHb1LS6NrN9",
        "outputId": "c8e5dc63-1786-4825-a56b-2c2d91b3ba5a"
      },
      "execution_count": 15,
      "outputs": [
        {
          "output_type": "execute_result",
          "data": {
            "text/plain": [
              "Text(0, 0.5, 'Loss/Error')"
            ]
          },
          "metadata": {},
          "execution_count": 15
        },
        {
          "output_type": "display_data",
          "data": {
            "text/plain": [
              "<Figure size 640x480 with 1 Axes>"
            ],
            "image/png": "[encoded data removed]"
          },
          "metadata": {}
        }
      ]
    },
    {
      "cell_type": "code",
      "source": [
        "plt.plot([100*x/Ntr for x in trainAcc], label=\"Train\")\n",
        "plt.plot([100*x/Nte for x in testAcc], label=\"Test\")\n",
        "plt.legend()\n",
        "plt.xlabel('Epochs')\n",
        "plt.ylabel('Accuracy')"
      ],
      "metadata": {
        "colab": {
          "base_uri": "https://localhost:8080/",
          "height": 466
        },
        "id": "IT5J4_zbPqNJ",
        "outputId": "6d5aec9b-2f1d-4c40-8b4b-89f25a3560c0"
      },
      "execution_count": 20,
      "outputs": [
        {
          "output_type": "execute_result",
          "data": {
            "text/plain": [
              "Text(0, 0.5, 'Accuracy')"
            ]
          },
          "metadata": {},
          "execution_count": 20
        },
        {
          "output_type": "display_data",
          "data": {
            "text/plain": [
              "<Figure size 640x480 with 1 Axes>"
            ],
            "image/png": "[encoded data removed]"
          },
          "metadata": {}
        }
      ]
    },
    {
      "cell_type": "code",
      "source": [
        "# Evaluate the entire test data after for the trained model\n",
        "test_alldata = DataLoader(test_data, batch_size=10000, shuffle=False)\n",
        "with torch.no_grad():\n",
        "  acc = 0\n",
        "  for Xte, yte in test_alldata:\n",
        "    out = model(Xte)\n",
        "    _, ind = torch.max(out.data, 1, keepdim=True)\n",
        "    acc += (yte.reshape(-1,1) == ind.reshape(-1,1)).sum()\n",
        "\n",
        "print(f\"Accuracy for test data: {acc/Nte}\")"
      ],
      "metadata": {
        "colab": {
          "base_uri": "https://localhost:8080/"
        },
        "id": "ohrkrAyrYC6a",
        "outputId": "7c15f07c-55fb-4879-b879-a14552f2beeb"
      },
      "execution_count": 22,
      "outputs": [
        {
          "output_type": "stream",
          "name": "stdout",
          "text": [
            "Accuracy for test data: 0.9911999702453613\n"
          ]
        }
      ]
    },
    {
      "cell_type": "code",
      "source": [
        "ind = 4143\n",
        "plt.imshow(test_data[ind][0].reshape(28,28))\n",
        "plt.title(test_data[ind][1])"
      ],
      "metadata": {
        "colab": {
          "base_uri": "https://localhost:8080/",
          "height": 469
        },
        "id": "4f-xUpEdadCf",
        "outputId": "623cb2b6-b578-468f-8459-566df25e4703"
      },
      "execution_count": 29,
      "outputs": [
        {
          "output_type": "execute_result",
          "data": {
            "text/plain": [
              "Text(0.5, 1.0, '9')"
            ]
          },
          "metadata": {},
          "execution_count": 29
        },
        {
          "output_type": "display_data",
          "data": {
            "text/plain": [
              "<Figure size 640x480 with 1 Axes>"
            ],
            "image/png": "[encoded data removed]"
          },
          "metadata": {}
        }
      ]
    },
    {
      "cell_type": "code",
      "source": [
        "# Evaluate a single image with the CNN model\n",
        "model.eval()\n",
        "with torch.no_grad():\n",
        "  out = model(test_data[ind][0].reshape(1,1,28,28)) # batch size of 1, 1 color channel, and 28x28 pixels image\n",
        "  print(out.argmax())"
      ],
      "metadata": {
        "colab": {
          "base_uri": "https://localhost:8080/"
        },
        "id": "KuZTMatpdRfr",
        "outputId": "9e598585-1598-44de-dde0-6ceeb3fd4658"
      },
      "execution_count": 30,
      "outputs": [
        {
          "output_type": "stream",
          "name": "stdout",
          "text": [
            "tensor(9)\n"
          ]
        }
      ]
    }
  ]
}