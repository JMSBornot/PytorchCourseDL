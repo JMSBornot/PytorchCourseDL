{
  "nbformat": 4,
  "nbformat_minor": 0,
  "metadata": {
    "colab": {
      "provenance": [],
      "gpuType": "T4",
      "authorship_tag": "ABX9TyOXQxUP29nlORJL+H5VU9rK",
      "include_colab_link": true
    },
    "kernelspec": {
      "name": "python3",
      "display_name": "Python 3"
    },
    "language_info": {
      "name": "python"
    },
    "accelerator": "GPU"
  },
  "cells": [
    {
      "cell_type": "markdown",
      "metadata": {
        "id": "view-in-github",
        "colab_type": "text"
      },
      "source": [
        "<a href=\"https://colab.research.google.com/github/JMSBornot/PytorchCourseDL/blob/main/first.ipynb\" target=\"_parent\"><img src=\"https://colab.research.google.com/assets/colab-badge.svg\" alt=\"Open In Colab\"/></a>"
      ]
    },
    {
      "cell_type": "code",
      "execution_count": 3,
      "metadata": {
        "colab": {
          "base_uri": "https://localhost:8080/",
          "height": 53
        },
        "id": "BMYnh5xeMidv",
        "outputId": "110465d5-cb5b-42ec-9f76-3a4e17af41ae"
      },
      "outputs": [
        {
          "output_type": "stream",
          "name": "stdout",
          "text": [
            "device id: 0\n"
          ]
        },
        {
          "output_type": "execute_result",
          "data": {
            "text/plain": [
              "'Tesla T4'"
            ],
            "application/vnd.google.colaboratory.intrinsic+json": {
              "type": "string"
            }
          },
          "metadata": {},
          "execution_count": 3
        }
      ],
      "source": [
        "import torch\n",
        "torch.cuda.is_available()\n",
        "id = torch.cuda.current_device()\n",
        "print(f\"device id: {id}\")\n",
        "torch.cuda.get_device_name(id)"
      ]
    },
    {
      "cell_type": "code",
      "source": [
        "import numpy as np\n",
        "\n",
        "# Numpy array\n",
        "mat = np.random.rand(3,4)\n",
        "print(mat)\n",
        "print(type(mat))\n",
        "print(mat.dtype)\n",
        "\n",
        "# Pytorch tensor array\n",
        "mat2 = torch.randn(3,4)\n",
        "print(mat2)\n",
        "print(type(mat2))\n",
        "print(mat2.dtype)\n",
        "\n",
        "# Create a tensor from the Numpy array\n",
        "mat_tensor = torch.tensor(mat)\n",
        "print(mat_tensor)\n",
        "print(type(mat_tensor))\n",
        "print(mat_tensor.dtype)"
      ],
      "metadata": {
        "colab": {
          "base_uri": "https://localhost:8080/"
        },
        "id": "ngHdoEj9Nu7G",
        "outputId": "13c09ad0-fffc-4afd-9da3-cc1b1a3010dc"
      },
      "execution_count": 21,
      "outputs": [
        {
          "output_type": "stream",
          "name": "stdout",
          "text": [
            "[[0.86957673 0.32973682 0.66995925 0.10087561]\n",
            " [0.78584467 0.6850799  0.78667126 0.36704781]\n",
            " [0.86503571 0.17643936 0.89668342 0.53265743]]\n",
            "<class 'numpy.ndarray'>\n",
            "float64\n",
            "tensor([[ 8.9895e-01,  2.0840e+00, -8.6006e-01, -5.1121e-01],\n",
            "        [-3.0922e-01,  4.2023e-01, -3.4599e-01, -1.0902e-03],\n",
            "        [-1.2063e+00, -1.5927e-01, -1.2753e-01,  1.5453e+00]])\n",
            "<class 'torch.Tensor'>\n",
            "torch.float32\n",
            "tensor([[0.8696, 0.3297, 0.6700, 0.1009],\n",
            "        [0.7858, 0.6851, 0.7867, 0.3670],\n",
            "        [0.8650, 0.1764, 0.8967, 0.5327]], dtype=torch.float64)\n",
            "<class 'torch.Tensor'>\n",
            "torch.float64\n"
          ]
        }
      ]
    },
    {
      "cell_type": "code",
      "source": [
        "mylist = [[1,2,3,4], [5,6,7,8]]\n",
        "print(mylist)\n",
        "type(mylist)"
      ],
      "metadata": {
        "colab": {
          "base_uri": "https://localhost:8080/"
        },
        "id": "bpQ-bYFzUENW",
        "outputId": "ffda18c3-4df8-4b3a-d31f-19645fcc7a38"
      },
      "execution_count": 9,
      "outputs": [
        {
          "output_type": "stream",
          "name": "stdout",
          "text": [
            "[[1, 2, 3, 4], [5, 6, 7, 8]]\n"
          ]
        },
        {
          "output_type": "execute_result",
          "data": {
            "text/plain": [
              "list"
            ]
          },
          "metadata": {},
          "execution_count": 9
        }
      ]
    },
    {
      "cell_type": "code",
      "source": [
        "tensor_3d = torch.zeros(2,3,4,dtype=torch.float64) # by default precision is 32 bits\n",
        "tensor_3d[1,2,2] = 1\n",
        "print(tensor_3d)"
      ],
      "metadata": {
        "colab": {
          "base_uri": "https://localhost:8080/"
        },
        "id": "ogP0QI5rW3V5",
        "outputId": "2e2a8fae-8317-4c6f-9bc4-d29f09b61ac6"
      },
      "execution_count": 22,
      "outputs": [
        {
          "output_type": "stream",
          "name": "stdout",
          "text": [
            "tensor([[[0., 0., 0., 0.],\n",
            "         [0., 0., 0., 0.],\n",
            "         [0., 0., 0., 0.]],\n",
            "\n",
            "        [[0., 0., 0., 0.],\n",
            "         [0., 0., 0., 0.],\n",
            "         [0., 0., 1., 0.]]], dtype=torch.float64)\n"
          ]
        }
      ]
    },
    {
      "cell_type": "code",
      "source": [
        "seq = torch.arange(10)\n",
        "print(seq)\n",
        "# reshape and view are similar\n",
        "print(seq.reshape(2,5))\n",
        "print(seq.view(2,5))\n",
        "\n",
        "# Reshape if you don't know the size of a dimension using -1\n",
        "mat = seq.reshape(2,-1)\n",
        "print(mat)\n",
        "print(mat.size())"
      ],
      "metadata": {
        "colab": {
          "base_uri": "https://localhost:8080/"
        },
        "id": "oDcTpL8iaQLC",
        "outputId": "1fef4aea-eb2c-4e8f-a085-ec9a77e3cf7e"
      },
      "execution_count": 29,
      "outputs": [
        {
          "output_type": "stream",
          "name": "stdout",
          "text": [
            "tensor([0, 1, 2, 3, 4, 5, 6, 7, 8, 9])\n",
            "tensor([[0, 1, 2, 3, 4],\n",
            "        [5, 6, 7, 8, 9]])\n",
            "tensor([[0, 1, 2, 3, 4],\n",
            "        [5, 6, 7, 8, 9]])\n",
            "tensor([[0, 1, 2, 3, 4],\n",
            "        [5, 6, 7, 8, 9]])\n",
            "torch.Size([2, 5])\n"
          ]
        }
      ]
    },
    {
      "cell_type": "markdown",
      "source": [
        "# **Critical note**\n",
        "Both, reshape and view, create references"
      ],
      "metadata": {
        "id": "x36l4D2ac5Bv"
      }
    },
    {
      "cell_type": "code",
      "source": [
        "seq = torch.arange(10)\n",
        "mat = seq.reshape(-1,2)\n",
        "mat2 = mat.clone() # clone to copy the values, i.e., break the reference\n",
        "seq[7] = 42\n",
        "print(seq)\n",
        "print(mat)\n",
        "print(mat2)\n",
        "print(mat[3,])\n",
        "print(mat[3,:]) # also allow Matlab notation\n",
        "\n",
        "print(mat[:,1])  # by default slicing breaks the shape (forced to use colon for the dimensions at the left)\n",
        "print(mat[:,1:]) # it must include colon to preserve the shape"
      ],
      "metadata": {
        "colab": {
          "base_uri": "https://localhost:8080/"
        },
        "id": "-zp0dy1gdD1n",
        "outputId": "4387f669-51af-4f24-9a49-e4777bcba926"
      },
      "execution_count": 40,
      "outputs": [
        {
          "output_type": "stream",
          "name": "stdout",
          "text": [
            "tensor([ 0,  1,  2,  3,  4,  5,  6, 42,  8,  9])\n",
            "tensor([[ 0,  1],\n",
            "        [ 2,  3],\n",
            "        [ 4,  5],\n",
            "        [ 6, 42],\n",
            "        [ 8,  9]])\n",
            "tensor([[0, 1],\n",
            "        [2, 3],\n",
            "        [4, 5],\n",
            "        [6, 7],\n",
            "        [8, 9]])\n",
            "tensor([ 6, 42])\n",
            "tensor([ 6, 42])\n",
            "tensor([ 1,  3,  5, 42,  9])\n",
            "tensor([[ 1],\n",
            "        [ 3],\n",
            "        [ 5],\n",
            "        [42],\n",
            "        [ 9]])\n"
          ]
        }
      ]
    },
    {
      "cell_type": "code",
      "source": [],
      "metadata": {
        "id": "0KjWTTJBfIJj"
      },
      "execution_count": null,
      "outputs": []
    }
  ]
}